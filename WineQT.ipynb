{
  "nbformat": 4,
  "nbformat_minor": 0,
  "metadata": {
    "colab": {
      "provenance": [],
      "include_colab_link": true
    },
    "kernelspec": {
      "name": "python3",
      "display_name": "Python 3"
    },
    "language_info": {
      "name": "python"
    }
  },
  "cells": [
    {
      "cell_type": "markdown",
      "metadata": {
        "id": "view-in-github",
        "colab_type": "text"
      },
      "source": [
        "<a href=\"https://colab.research.google.com/github/Chandrika2783/Chandrika2783/blob/main/WineQT.ipynb\" target=\"_parent\"><img src=\"https://colab.research.google.com/assets/colab-badge.svg\" alt=\"Open In Colab\"/></a>"
      ]
    },
    {
      "cell_type": "code",
      "execution_count": 4,
      "metadata": {
        "id": "fqvFa4PUUF9J"
      },
      "outputs": [],
      "source": [
        "import pandas as pd\n",
        "import numpy as np\n",
        "import matplotlib.pyplot as plt\n",
        "import seaborn as sns\n",
        "from sklearn.model_selection import train_test_split\n",
        "from sklearn.ensemble import RandomForestClassifier\n",
        "from sklearn.metrics import accuracy_score\n",
        "import warnings\n",
        "warnings.filterwarnings('ignore')"
      ]
    },
    {
      "cell_type": "code",
      "source": [
        "df = pd.read_csv('WineQT.csv')\n",
        "df.head()"
      ],
      "metadata": {
        "colab": {
          "base_uri": "https://localhost:8080/",
          "height": 267
        },
        "id": "5XfnVJ74Vycu",
        "outputId": "624cdd40-4d27-4923-a085-c4dd7e02ec61"
      },
      "execution_count": 5,
      "outputs": [
        {
          "output_type": "execute_result",
          "data": {
            "text/plain": [
              "   fixed acidity  volatile acidity  citric acid  residual sugar  chlorides  \\\n",
              "0            7.4              0.70         0.00             1.9      0.076   \n",
              "1            7.8              0.88         0.00             2.6      0.098   \n",
              "2            7.8              0.76         0.04             2.3      0.092   \n",
              "3           11.2              0.28         0.56             1.9      0.075   \n",
              "4            7.4              0.70         0.00             1.9      0.076   \n",
              "\n",
              "   free sulfur dioxide  total sulfur dioxide  density    pH  sulphates  \\\n",
              "0                 11.0                  34.0   0.9978  3.51       0.56   \n",
              "1                 25.0                  67.0   0.9968  3.20       0.68   \n",
              "2                 15.0                  54.0   0.9970  3.26       0.65   \n",
              "3                 17.0                  60.0   0.9980  3.16       0.58   \n",
              "4                 11.0                  34.0   0.9978  3.51       0.56   \n",
              "\n",
              "   alcohol  quality  Id  \n",
              "0      9.4        5   0  \n",
              "1      9.8        5   1  \n",
              "2      9.8        5   2  \n",
              "3      9.8        6   3  \n",
              "4      9.4        5   4  "
            ],
            "text/html": [
              "\n",
              "  <div id=\"df-d5ce9a89-e1b6-4f5f-be0e-f713e6df75a5\">\n",
              "    <div class=\"colab-df-container\">\n",
              "      <div>\n",
              "<style scoped>\n",
              "    .dataframe tbody tr th:only-of-type {\n",
              "        vertical-align: middle;\n",
              "    }\n",
              "\n",
              "    .dataframe tbody tr th {\n",
              "        vertical-align: top;\n",
              "    }\n",
              "\n",
              "    .dataframe thead th {\n",
              "        text-align: right;\n",
              "    }\n",
              "</style>\n",
              "<table border=\"1\" class=\"dataframe\">\n",
              "  <thead>\n",
              "    <tr style=\"text-align: right;\">\n",
              "      <th></th>\n",
              "      <th>fixed acidity</th>\n",
              "      <th>volatile acidity</th>\n",
              "      <th>citric acid</th>\n",
              "      <th>residual sugar</th>\n",
              "      <th>chlorides</th>\n",
              "      <th>free sulfur dioxide</th>\n",
              "      <th>total sulfur dioxide</th>\n",
              "      <th>density</th>\n",
              "      <th>pH</th>\n",
              "      <th>sulphates</th>\n",
              "      <th>alcohol</th>\n",
              "      <th>quality</th>\n",
              "      <th>Id</th>\n",
              "    </tr>\n",
              "  </thead>\n",
              "  <tbody>\n",
              "    <tr>\n",
              "      <th>0</th>\n",
              "      <td>7.4</td>\n",
              "      <td>0.70</td>\n",
              "      <td>0.00</td>\n",
              "      <td>1.9</td>\n",
              "      <td>0.076</td>\n",
              "      <td>11.0</td>\n",
              "      <td>34.0</td>\n",
              "      <td>0.9978</td>\n",
              "      <td>3.51</td>\n",
              "      <td>0.56</td>\n",
              "      <td>9.4</td>\n",
              "      <td>5</td>\n",
              "      <td>0</td>\n",
              "    </tr>\n",
              "    <tr>\n",
              "      <th>1</th>\n",
              "      <td>7.8</td>\n",
              "      <td>0.88</td>\n",
              "      <td>0.00</td>\n",
              "      <td>2.6</td>\n",
              "      <td>0.098</td>\n",
              "      <td>25.0</td>\n",
              "      <td>67.0</td>\n",
              "      <td>0.9968</td>\n",
              "      <td>3.20</td>\n",
              "      <td>0.68</td>\n",
              "      <td>9.8</td>\n",
              "      <td>5</td>\n",
              "      <td>1</td>\n",
              "    </tr>\n",
              "    <tr>\n",
              "      <th>2</th>\n",
              "      <td>7.8</td>\n",
              "      <td>0.76</td>\n",
              "      <td>0.04</td>\n",
              "      <td>2.3</td>\n",
              "      <td>0.092</td>\n",
              "      <td>15.0</td>\n",
              "      <td>54.0</td>\n",
              "      <td>0.9970</td>\n",
              "      <td>3.26</td>\n",
              "      <td>0.65</td>\n",
              "      <td>9.8</td>\n",
              "      <td>5</td>\n",
              "      <td>2</td>\n",
              "    </tr>\n",
              "    <tr>\n",
              "      <th>3</th>\n",
              "      <td>11.2</td>\n",
              "      <td>0.28</td>\n",
              "      <td>0.56</td>\n",
              "      <td>1.9</td>\n",
              "      <td>0.075</td>\n",
              "      <td>17.0</td>\n",
              "      <td>60.0</td>\n",
              "      <td>0.9980</td>\n",
              "      <td>3.16</td>\n",
              "      <td>0.58</td>\n",
              "      <td>9.8</td>\n",
              "      <td>6</td>\n",
              "      <td>3</td>\n",
              "    </tr>\n",
              "    <tr>\n",
              "      <th>4</th>\n",
              "      <td>7.4</td>\n",
              "      <td>0.70</td>\n",
              "      <td>0.00</td>\n",
              "      <td>1.9</td>\n",
              "      <td>0.076</td>\n",
              "      <td>11.0</td>\n",
              "      <td>34.0</td>\n",
              "      <td>0.9978</td>\n",
              "      <td>3.51</td>\n",
              "      <td>0.56</td>\n",
              "      <td>9.4</td>\n",
              "      <td>5</td>\n",
              "      <td>4</td>\n",
              "    </tr>\n",
              "  </tbody>\n",
              "</table>\n",
              "</div>\n",
              "      <button class=\"colab-df-convert\" onclick=\"convertToInteractive('df-d5ce9a89-e1b6-4f5f-be0e-f713e6df75a5')\"\n",
              "              title=\"Convert this dataframe to an interactive table.\"\n",
              "              style=\"display:none;\">\n",
              "        \n",
              "  <svg xmlns=\"http://www.w3.org/2000/svg\" height=\"24px\"viewBox=\"0 0 24 24\"\n",
              "       width=\"24px\">\n",
              "    <path d=\"M0 0h24v24H0V0z\" fill=\"none\"/>\n",
              "    <path d=\"M18.56 5.44l.94 2.06.94-2.06 2.06-.94-2.06-.94-.94-2.06-.94 2.06-2.06.94zm-11 1L8.5 8.5l.94-2.06 2.06-.94-2.06-.94L8.5 2.5l-.94 2.06-2.06.94zm10 10l.94 2.06.94-2.06 2.06-.94-2.06-.94-.94-2.06-.94 2.06-2.06.94z\"/><path d=\"M17.41 7.96l-1.37-1.37c-.4-.4-.92-.59-1.43-.59-.52 0-1.04.2-1.43.59L10.3 9.45l-7.72 7.72c-.78.78-.78 2.05 0 2.83L4 21.41c.39.39.9.59 1.41.59.51 0 1.02-.2 1.41-.59l7.78-7.78 2.81-2.81c.8-.78.8-2.07 0-2.86zM5.41 20L4 18.59l7.72-7.72 1.47 1.35L5.41 20z\"/>\n",
              "  </svg>\n",
              "      </button>\n",
              "      \n",
              "  <style>\n",
              "    .colab-df-container {\n",
              "      display:flex;\n",
              "      flex-wrap:wrap;\n",
              "      gap: 12px;\n",
              "    }\n",
              "\n",
              "    .colab-df-convert {\n",
              "      background-color: #E8F0FE;\n",
              "      border: none;\n",
              "      border-radius: 50%;\n",
              "      cursor: pointer;\n",
              "      display: none;\n",
              "      fill: #1967D2;\n",
              "      height: 32px;\n",
              "      padding: 0 0 0 0;\n",
              "      width: 32px;\n",
              "    }\n",
              "\n",
              "    .colab-df-convert:hover {\n",
              "      background-color: #E2EBFA;\n",
              "      box-shadow: 0px 1px 2px rgba(60, 64, 67, 0.3), 0px 1px 3px 1px rgba(60, 64, 67, 0.15);\n",
              "      fill: #174EA6;\n",
              "    }\n",
              "\n",
              "    [theme=dark] .colab-df-convert {\n",
              "      background-color: #3B4455;\n",
              "      fill: #D2E3FC;\n",
              "    }\n",
              "\n",
              "    [theme=dark] .colab-df-convert:hover {\n",
              "      background-color: #434B5C;\n",
              "      box-shadow: 0px 1px 3px 1px rgba(0, 0, 0, 0.15);\n",
              "      filter: drop-shadow(0px 1px 2px rgba(0, 0, 0, 0.3));\n",
              "      fill: #FFFFFF;\n",
              "    }\n",
              "  </style>\n",
              "\n",
              "      <script>\n",
              "        const buttonEl =\n",
              "          document.querySelector('#df-d5ce9a89-e1b6-4f5f-be0e-f713e6df75a5 button.colab-df-convert');\n",
              "        buttonEl.style.display =\n",
              "          google.colab.kernel.accessAllowed ? 'block' : 'none';\n",
              "\n",
              "        async function convertToInteractive(key) {\n",
              "          const element = document.querySelector('#df-d5ce9a89-e1b6-4f5f-be0e-f713e6df75a5');\n",
              "          const dataTable =\n",
              "            await google.colab.kernel.invokeFunction('convertToInteractive',\n",
              "                                                     [key], {});\n",
              "          if (!dataTable) return;\n",
              "\n",
              "          const docLinkHtml = 'Like what you see? Visit the ' +\n",
              "            '<a target=\"_blank\" href=https://colab.research.google.com/notebooks/data_table.ipynb>data table notebook</a>'\n",
              "            + ' to learn more about interactive tables.';\n",
              "          element.innerHTML = '';\n",
              "          dataTable['output_type'] = 'display_data';\n",
              "          await google.colab.output.renderOutput(dataTable, element);\n",
              "          const docLink = document.createElement('div');\n",
              "          docLink.innerHTML = docLinkHtml;\n",
              "          element.appendChild(docLink);\n",
              "        }\n",
              "      </script>\n",
              "    </div>\n",
              "  </div>\n",
              "  "
            ]
          },
          "metadata": {},
          "execution_count": 5
        }
      ]
    },
    {
      "cell_type": "code",
      "source": [
        "df.isnull().sum()"
      ],
      "metadata": {
        "colab": {
          "base_uri": "https://localhost:8080/"
        },
        "id": "Xttm3-bxYnIf",
        "outputId": "655cc195-19b7-4a0a-96ef-08a1e212a929"
      },
      "execution_count": null,
      "outputs": [
        {
          "output_type": "execute_result",
          "data": {
            "text/plain": [
              "fixed acidity           0\n",
              "volatile acidity        0\n",
              "citric acid             0\n",
              "residual sugar          0\n",
              "chlorides               0\n",
              "free sulfur dioxide     0\n",
              "total sulfur dioxide    0\n",
              "density                 0\n",
              "pH                      0\n",
              "sulphates               0\n",
              "alcohol                 0\n",
              "quality                 0\n",
              "Id                      0\n",
              "dtype: int64"
            ]
          },
          "metadata": {},
          "execution_count": 32
        }
      ]
    },
    {
      "cell_type": "code",
      "source": [
        "sns.catplot(x='quality',data=df,kind='count')\n",
        "plt.show()"
      ],
      "metadata": {
        "colab": {
          "base_uri": "https://localhost:8080/",
          "height": 506
        },
        "id": "PDy_T57uYvxm",
        "outputId": "3f146b3e-4a9c-40f9-cfbc-233e4225a98b"
      },
      "execution_count": null,
      "outputs": [
        {
          "output_type": "display_data",
          "data": {
            "text/plain": [
              "<Figure size 500x500 with 1 Axes>"
            ],
            "image/png": "[encoded data removed]"
          },
          "metadata": {}
        }
      ]
    },
    {
      "cell_type": "code",
      "source": [
        "plot=plt.figure(figsize=(5,5))\n",
        "sns.barplot(x='quality',y='volatile acidity',data=df)\n",
        "plt.show()"
      ],
      "metadata": {
        "colab": {
          "base_uri": "https://localhost:8080/",
          "height": 465
        },
        "id": "5mm_ywCfY2JW",
        "outputId": "641bb513-8daa-490e-e12c-d231e2bc4c06"
      },
      "execution_count": null,
      "outputs": [
        {
          "output_type": "display_data",
          "data": {
            "text/plain": [
              "<Figure size 500x500 with 1 Axes>"
            ],
            "image/png": "[encoded data removed]"
          },
          "metadata": {}
        }
      ]
    },
    {
      "cell_type": "code",
      "source": [
        "corr=df.corr()\n",
        "print(corr)"
      ],
      "metadata": {
        "colab": {
          "base_uri": "https://localhost:8080/"
        },
        "id": "0RbYc8FEY8KW",
        "outputId": "ada7fc81-7c47-4b5f-be57-c41bb9fb01aa"
      },
      "execution_count": null,
      "outputs": [
        {
          "output_type": "stream",
          "name": "stdout",
          "text": [
            "                      fixed acidity  volatile acidity  citric acid  \\\n",
            "fixed acidity              1.000000         -0.250728     0.673157   \n",
            "volatile acidity          -0.250728          1.000000    -0.544187   \n",
            "citric acid                0.673157         -0.544187     1.000000   \n",
            "residual sugar             0.171831         -0.005751     0.175815   \n",
            "chlorides                  0.107889          0.056336     0.245312   \n",
            "free sulfur dioxide       -0.164831         -0.001962    -0.057589   \n",
            "total sulfur dioxide      -0.110628          0.077748     0.036871   \n",
            "density                    0.681501          0.016512     0.375243   \n",
            "pH                        -0.685163          0.221492    -0.546339   \n",
            "sulphates                  0.174592         -0.276079     0.331232   \n",
            "alcohol                   -0.075055         -0.203909     0.106250   \n",
            "quality                    0.121970         -0.407394     0.240821   \n",
            "Id                        -0.275826         -0.007892    -0.139011   \n",
            "\n",
            "                      residual sugar  chlorides  free sulfur dioxide  \\\n",
            "fixed acidity               0.171831   0.107889            -0.164831   \n",
            "volatile acidity           -0.005751   0.056336            -0.001962   \n",
            "citric acid                 0.175815   0.245312            -0.057589   \n",
            "residual sugar              1.000000   0.070863             0.165339   \n",
            "chlorides                   0.070863   1.000000             0.015280   \n",
            "free sulfur dioxide         0.165339   0.015280             1.000000   \n",
            "total sulfur dioxide        0.190790   0.048163             0.661093   \n",
            "density                     0.380147   0.208901            -0.054150   \n",
            "pH                         -0.116959  -0.277759             0.072804   \n",
            "sulphates                   0.017475   0.374784             0.034445   \n",
            "alcohol                     0.058421  -0.229917            -0.047095   \n",
            "quality                     0.022002  -0.124085            -0.063260   \n",
            "Id                         -0.046344  -0.088099             0.095268   \n",
            "\n",
            "                      total sulfur dioxide   density        pH  sulphates  \\\n",
            "fixed acidity                    -0.110628  0.681501 -0.685163   0.174592   \n",
            "volatile acidity                  0.077748  0.016512  0.221492  -0.276079   \n",
            "citric acid                       0.036871  0.375243 -0.546339   0.331232   \n",
            "residual sugar                    0.190790  0.380147 -0.116959   0.017475   \n",
            "chlorides                         0.048163  0.208901 -0.277759   0.374784   \n",
            "free sulfur dioxide               0.661093 -0.054150  0.072804   0.034445   \n",
            "total sulfur dioxide              1.000000  0.050175 -0.059126   0.026894   \n",
            "density                           0.050175  1.000000 -0.352775   0.143139   \n",
            "pH                               -0.059126 -0.352775  1.000000  -0.185499   \n",
            "sulphates                         0.026894  0.143139 -0.185499   1.000000   \n",
            "alcohol                          -0.188165 -0.494727  0.225322   0.094421   \n",
            "quality                          -0.183339 -0.175208 -0.052453   0.257710   \n",
            "Id                               -0.107389 -0.363926  0.132904  -0.103954   \n",
            "\n",
            "                       alcohol   quality        Id  \n",
            "fixed acidity        -0.075055  0.121970 -0.275826  \n",
            "volatile acidity     -0.203909 -0.407394 -0.007892  \n",
            "citric acid           0.106250  0.240821 -0.139011  \n",
            "residual sugar        0.058421  0.022002 -0.046344  \n",
            "chlorides            -0.229917 -0.124085 -0.088099  \n",
            "free sulfur dioxide  -0.047095 -0.063260  0.095268  \n",
            "total sulfur dioxide -0.188165 -0.183339 -0.107389  \n",
            "density              -0.494727 -0.175208 -0.363926  \n",
            "pH                    0.225322 -0.052453  0.132904  \n",
            "sulphates             0.094421  0.257710 -0.103954  \n",
            "alcohol               1.000000  0.484866  0.238087  \n",
            "quality               0.484866  1.000000  0.069708  \n",
            "Id                    0.238087  0.069708  1.000000  \n"
          ]
        }
      ]
    },
    {
      "cell_type": "code",
      "source": [],
      "metadata": {
        "id": "F-4os09eaq5v"
      },
      "execution_count": null,
      "outputs": []
    },
    {
      "cell_type": "code",
      "source": [
        "X=df.drop(['Id','quality'],axis=1)\n",
        "Y=df['quality'].apply(lambda y_values:1 if y_values>=6 else 0)\n",
        "print(X)\n",
        "print(Y)"
      ],
      "metadata": {
        "colab": {
          "base_uri": "https://localhost:8080/"
        },
        "id": "Xd3XWwLOZXxX",
        "outputId": "872eca94-93fc-408c-a108-fdc864f27152"
      },
      "execution_count": null,
      "outputs": [
        {
          "output_type": "stream",
          "name": "stdout",
          "text": [
            "      fixed acidity  volatile acidity  citric acid  residual sugar  chlorides  \\\n",
            "0               7.4             0.700         0.00             1.9      0.076   \n",
            "1               7.8             0.880         0.00             2.6      0.098   \n",
            "2               7.8             0.760         0.04             2.3      0.092   \n",
            "3              11.2             0.280         0.56             1.9      0.075   \n",
            "4               7.4             0.700         0.00             1.9      0.076   \n",
            "...             ...               ...          ...             ...        ...   \n",
            "1138            6.3             0.510         0.13             2.3      0.076   \n",
            "1139            6.8             0.620         0.08             1.9      0.068   \n",
            "1140            6.2             0.600         0.08             2.0      0.090   \n",
            "1141            5.9             0.550         0.10             2.2      0.062   \n",
            "1142            5.9             0.645         0.12             2.0      0.075   \n",
            "\n",
            "      free sulfur dioxide  total sulfur dioxide  density    pH  sulphates  \\\n",
            "0                    11.0                  34.0  0.99780  3.51       0.56   \n",
            "1                    25.0                  67.0  0.99680  3.20       0.68   \n",
            "2                    15.0                  54.0  0.99700  3.26       0.65   \n",
            "3                    17.0                  60.0  0.99800  3.16       0.58   \n",
            "4                    11.0                  34.0  0.99780  3.51       0.56   \n",
            "...                   ...                   ...      ...   ...        ...   \n",
            "1138                 29.0                  40.0  0.99574  3.42       0.75   \n",
            "1139                 28.0                  38.0  0.99651  3.42       0.82   \n",
            "1140                 32.0                  44.0  0.99490  3.45       0.58   \n",
            "1141                 39.0                  51.0  0.99512  3.52       0.76   \n",
            "1142                 32.0                  44.0  0.99547  3.57       0.71   \n",
            "\n",
            "      alcohol  \n",
            "0         9.4  \n",
            "1         9.8  \n",
            "2         9.8  \n",
            "3         9.8  \n",
            "4         9.4  \n",
            "...       ...  \n",
            "1138     11.0  \n",
            "1139      9.5  \n",
            "1140     10.5  \n",
            "1141     11.2  \n",
            "1142     10.2  \n",
            "\n",
            "[1143 rows x 11 columns]\n",
            "0       0\n",
            "1       0\n",
            "2       0\n",
            "3       1\n",
            "4       0\n",
            "       ..\n",
            "1138    1\n",
            "1139    1\n",
            "1140    0\n",
            "1141    1\n",
            "1142    0\n",
            "Name: quality, Length: 1143, dtype: int64\n"
          ]
        }
      ]
    },
    {
      "cell_type": "code",
      "source": [
        "X_train,X_test,Y_train,Y_test=train_test_split(X,Y,random_state=2,test_size=0.2)\n",
        "print(X_train,X_test,Y_train,Y_test)"
      ],
      "metadata": {
        "colab": {
          "base_uri": "https://localhost:8080/"
        },
        "id": "kFAvb-szZdSI",
        "outputId": "35474bed-7d9e-49b9-932e-202d9c4b93a0"
      },
      "execution_count": null,
      "outputs": [
        {
          "output_type": "stream",
          "name": "stdout",
          "text": [
            "      fixed acidity  volatile acidity  citric acid  residual sugar  chlorides  \\\n",
            "1130            7.4             0.350         0.33             2.4      0.068   \n",
            "453             9.5             0.885         0.27             2.3      0.084   \n",
            "1072            6.2             0.440         0.39             2.5      0.077   \n",
            "877             6.5             0.670         0.00             4.3      0.057   \n",
            "193             7.9             0.545         0.06             4.0      0.087   \n",
            "...             ...               ...          ...             ...        ...   \n",
            "1099            6.2             0.520         0.08             4.4      0.071   \n",
            "466            10.7             0.430         0.39             2.2      0.106   \n",
            "299             9.5             0.780         0.22             1.9      0.077   \n",
            "493             5.1             0.470         0.02             1.3      0.034   \n",
            "527             9.0             0.690         0.00             2.4      0.088   \n",
            "\n",
            "      free sulfur dioxide  total sulfur dioxide  density    pH  sulphates  \\\n",
            "1130                  9.0                  26.0  0.99470  3.36       0.60   \n",
            "453                  31.0                 145.0  0.99780  3.24       0.53   \n",
            "1072                  6.0                  14.0  0.99555  3.51       0.69   \n",
            "877                  11.0                  20.0  0.99488  3.45       0.56   \n",
            "193                  27.0                  61.0  0.99650  3.36       0.67   \n",
            "...                   ...                   ...      ...   ...        ...   \n",
            "1099                 11.0                  32.0  0.99646  3.56       0.63   \n",
            "466                   8.0                  32.0  0.99860  2.89       0.50   \n",
            "299                   6.0                  32.0  0.99880  3.26       0.56   \n",
            "493                  18.0                  44.0  0.99210  3.90       0.62   \n",
            "527                  19.0                  38.0  0.99900  3.35       0.60   \n",
            "\n",
            "      alcohol  \n",
            "1130     11.9  \n",
            "453       9.4  \n",
            "1072     11.0  \n",
            "877      11.8  \n",
            "193      10.7  \n",
            "...       ...  \n",
            "1099     11.6  \n",
            "466       9.6  \n",
            "299      10.6  \n",
            "493      12.8  \n",
            "527       9.3  \n",
            "\n",
            "[914 rows x 11 columns]      fixed acidity  volatile acidity  citric acid  residual sugar  chlorides  \\\n",
            "835            9.8             0.390         0.43            1.65      0.068   \n",
            "226            7.4             0.360         0.29            2.60      0.087   \n",
            "199           11.4             0.260         0.44            3.60      0.071   \n",
            "158            6.8             0.610         0.04            1.50      0.057   \n",
            "597            6.7             0.280         0.28            2.40      0.012   \n",
            "..             ...               ...          ...             ...        ...   \n",
            "86             7.8             0.500         0.17            1.60      0.082   \n",
            "164            8.5             0.370         0.20            2.80      0.090   \n",
            "99             8.1             0.670         0.55            1.80      0.117   \n",
            "286            7.1             0.735         0.16            1.90      0.100   \n",
            "947            7.2             0.835         0.00            2.00      0.166   \n",
            "\n",
            "     free sulfur dioxide  total sulfur dioxide  density    pH  sulphates  \\\n",
            "835                  5.0                  11.0  0.99478  3.19       0.46   \n",
            "226                 26.0                  72.0  0.99645  3.39       0.68   \n",
            "199                  6.0                  19.0  0.99860  3.12       0.82   \n",
            "158                  5.0                  10.0  0.99525  3.42       0.60   \n",
            "597                 36.0                 100.0  0.99064  3.26       0.39   \n",
            "..                   ...                   ...      ...   ...        ...   \n",
            "86                  21.0                 102.0  0.99600  3.39       0.48   \n",
            "164                 18.0                  58.0  0.99800  3.34       0.70   \n",
            "99                  32.0                 141.0  0.99680  3.17       0.62   \n",
            "286                 15.0                  77.0  0.99660  3.27       0.64   \n",
            "947                  4.0                  11.0  0.99608  3.39       0.52   \n",
            "\n",
            "     alcohol  \n",
            "835     11.4  \n",
            "226     11.0  \n",
            "199      9.3  \n",
            "158      9.5  \n",
            "597     11.7  \n",
            "..       ...  \n",
            "86       9.5  \n",
            "164      9.6  \n",
            "99       9.4  \n",
            "286      9.3  \n",
            "947     10.0  \n",
            "\n",
            "[229 rows x 11 columns] 1130    1\n",
            "453     0\n",
            "1072    1\n",
            "877     0\n",
            "193     1\n",
            "       ..\n",
            "1099    1\n",
            "466     0\n",
            "299     1\n",
            "493     1\n",
            "527     0\n",
            "Name: quality, Length: 914, dtype: int64 835    0\n",
            "226    0\n",
            "199    1\n",
            "158    0\n",
            "597    1\n",
            "      ..\n",
            "86     0\n",
            "164    1\n",
            "99     0\n",
            "286    0\n",
            "947    0\n",
            "Name: quality, Length: 229, dtype: int64\n"
          ]
        }
      ]
    },
    {
      "cell_type": "code",
      "source": [
        "model=RandomForestClassifier()\n",
        "model.fit(X_train,Y_train)"
      ],
      "metadata": {
        "colab": {
          "base_uri": "https://localhost:8080/",
          "height": 75
        },
        "id": "IJLW29-oZlGf",
        "outputId": "19dd7359-efec-4dea-f2bc-050fa711b421"
      },
      "execution_count": null,
      "outputs": [
        {
          "output_type": "execute_result",
          "data": {
            "text/plain": [
              "RandomForestClassifier()"
            ],
            "text/html": [
              "<style>#sk-container-id-2 {color: black;background-color: white;}#sk-container-id-2 pre{padding: 0;}#sk-container-id-2 div.sk-toggleable {background-color: white;}#sk-container-id-2 label.sk-toggleable__label {cursor: pointer;display: block;width: 100%;margin-bottom: 0;padding: 0.3em;box-sizing: border-box;text-align: center;}#sk-container-id-2 label.sk-toggleable__label-arrow:before {content: \"▸\";float: left;margin-right: 0.25em;color: #696969;}#sk-container-id-2 label.sk-toggleable__label-arrow:hover:before {color: black;}#sk-container-id-2 div.sk-estimator:hover label.sk-toggleable__label-arrow:before {color: black;}#sk-container-id-2 div.sk-toggleable__content {max-height: 0;max-width: 0;overflow: hidden;text-align: left;background-color: #f0f8ff;}#sk-container-id-2 div.sk-toggleable__content pre {margin: 0.2em;color: black;border-radius: 0.25em;background-color: #f0f8ff;}#sk-container-id-2 input.sk-toggleable__control:checked~div.sk-toggleable__content {max-height: 200px;max-width: 100%;overflow: auto;}#sk-container-id-2 input.sk-toggleable__control:checked~label.sk-toggleable__label-arrow:before {content: \"▾\";}#sk-container-id-2 div.sk-estimator input.sk-toggleable__control:checked~label.sk-toggleable__label {background-color: #d4ebff;}#sk-container-id-2 div.sk-label input.sk-toggleable__control:checked~label.sk-toggleable__label {background-color: #d4ebff;}#sk-container-id-2 input.sk-hidden--visually {border: 0;clip: rect(1px 1px 1px 1px);clip: rect(1px, 1px, 1px, 1px);height: 1px;margin: -1px;overflow: hidden;padding: 0;position: absolute;width: 1px;}#sk-container-id-2 div.sk-estimator {font-family: monospace;background-color: #f0f8ff;border: 1px dotted black;border-radius: 0.25em;box-sizing: border-box;margin-bottom: 0.5em;}#sk-container-id-2 div.sk-estimator:hover {background-color: #d4ebff;}#sk-container-id-2 div.sk-parallel-item::after {content: \"\";width: 100%;border-bottom: 1px solid gray;flex-grow: 1;}#sk-container-id-2 div.sk-label:hover label.sk-toggleable__label {background-color: #d4ebff;}#sk-container-id-2 div.sk-serial::before {content: \"\";position: absolute;border-left: 1px solid gray;box-sizing: border-box;top: 0;bottom: 0;left: 50%;z-index: 0;}#sk-container-id-2 div.sk-serial {display: flex;flex-direction: column;align-items: center;background-color: white;padding-right: 0.2em;padding-left: 0.2em;position: relative;}#sk-container-id-2 div.sk-item {position: relative;z-index: 1;}#sk-container-id-2 div.sk-parallel {display: flex;align-items: stretch;justify-content: center;background-color: white;position: relative;}#sk-container-id-2 div.sk-item::before, #sk-container-id-2 div.sk-parallel-item::before {content: \"\";position: absolute;border-left: 1px solid gray;box-sizing: border-box;top: 0;bottom: 0;left: 50%;z-index: -1;}#sk-container-id-2 div.sk-parallel-item {display: flex;flex-direction: column;z-index: 1;position: relative;background-color: white;}#sk-container-id-2 div.sk-parallel-item:first-child::after {align-self: flex-end;width: 50%;}#sk-container-id-2 div.sk-parallel-item:last-child::after {align-self: flex-start;width: 50%;}#sk-container-id-2 div.sk-parallel-item:only-child::after {width: 0;}#sk-container-id-2 div.sk-dashed-wrapped {border: 1px dashed gray;margin: 0 0.4em 0.5em 0.4em;box-sizing: border-box;padding-bottom: 0.4em;background-color: white;}#sk-container-id-2 div.sk-label label {font-family: monospace;font-weight: bold;display: inline-block;line-height: 1.2em;}#sk-container-id-2 div.sk-label-container {text-align: center;}#sk-container-id-2 div.sk-container {/* jupyter's `normalize.less` sets `[hidden] { display: none; }` but bootstrap.min.css set `[hidden] { display: none !important; }` so we also need the `!important` here to be able to override the default hidden behavior on the sphinx rendered scikit-learn.org. See: https://github.com/scikit-learn/scikit-learn/issues/21755 */display: inline-block !important;position: relative;}#sk-container-id-2 div.sk-text-repr-fallback {display: none;}</style><div id=\"sk-container-id-2\" class=\"sk-top-container\"><div class=\"sk-text-repr-fallback\"><pre>RandomForestClassifier()</pre><b>In a Jupyter environment, please rerun this cell to show the HTML representation or trust the notebook. <br />On GitHub, the HTML representation is unable to render, please try loading this page with nbviewer.org.</b></div><div class=\"sk-container\" hidden><div class=\"sk-item\"><div class=\"sk-estimator sk-toggleable\"><input class=\"sk-toggleable__control sk-hidden--visually\" id=\"sk-estimator-id-2\" type=\"checkbox\" checked><label for=\"sk-estimator-id-2\" class=\"sk-toggleable__label sk-toggleable__label-arrow\">RandomForestClassifier</label><div class=\"sk-toggleable__content\"><pre>RandomForestClassifier()</pre></div></div></div></div></div>"
            ]
          },
          "metadata": {},
          "execution_count": 37
        }
      ]
    },
    {
      "cell_type": "code",
      "source": [
        "input_data=(7.4,0.700,0.00,1.9,0.076,11.0,34.0,0.99780,3.51,0.56,9.4)\n",
        "#changing the input data to numpy array\n",
        "input_data_as_numpy_array=np.asarray(input_data)\n",
        "#reshape the data as we are predicting the label for only one instance\n",
        "input_data_reshaped=input_data_as_numpy_array.reshape(1,-1)\n",
        "prediction=model.predict(input_data_reshaped )\n",
        "print(prediction)\n",
        "if(prediction[0]==1):\n",
        "    print('Good Quality Wine')\n",
        "else:\n",
        "    print('Bad Quality Wine')"
      ],
      "metadata": {
        "colab": {
          "base_uri": "https://localhost:8080/"
        },
        "id": "yWs9ml6Aa0Jw",
        "outputId": "54b4d58e-a88e-4b4f-bcf2-c36a47699240"
      },
      "execution_count": null,
      "outputs": [
        {
          "output_type": "stream",
          "name": "stdout",
          "text": [
            "[0]\n",
            "Bad Quality Wine\n"
          ]
        }
      ]
    },
    {
      "cell_type": "code",
      "source": [
        "input_data1=(11.2,0.280,0.56,1.9,0.075,17.0,60.0,0.99800,3.16,0.58,9.8)\n",
        "#changing the input data to numpy array\n",
        "input_data1_as_numpy_array=np.asarray(input_data1)\n",
        "#reshape the data as we are predicting the label for only one instance\n",
        "input_data1_reshaped=input_data1_as_numpy_array.reshape(1,-1)\n",
        "prediction=model.predict(input_data1_reshaped )\n",
        "print(prediction)\n",
        "if(prediction[0]==1):\n",
        "    print('Good Quality Wine')\n",
        "else:\n",
        "    print('Bad Quality Win')"
      ],
      "metadata": {
        "colab": {
          "base_uri": "https://localhost:8080/"
        },
        "id": "aXud0eVgbCyo",
        "outputId": "94c7608e-c1e5-47fb-f7cf-89a9dca88374"
      },
      "execution_count": null,
      "outputs": [
        {
          "output_type": "stream",
          "name": "stdout",
          "text": [
            "[1]\n",
            "Good Quality Wine\n"
          ]
        }
      ]
    }
  ]
}